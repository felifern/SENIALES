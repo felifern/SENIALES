{
 "cells": [
  {
   "cell_type": "code",
   "execution_count": null,
   "id": "eba7df82",
   "metadata": {},
   "outputs": [],
   "source": [
    "#cosas de señales (apartir de ahora seniales)\n"
   ]
  }
 ],
 "metadata": {
  "language_info": {
   "name": "python"
  }
 },
 "nbformat": 4,
 "nbformat_minor": 5
}
